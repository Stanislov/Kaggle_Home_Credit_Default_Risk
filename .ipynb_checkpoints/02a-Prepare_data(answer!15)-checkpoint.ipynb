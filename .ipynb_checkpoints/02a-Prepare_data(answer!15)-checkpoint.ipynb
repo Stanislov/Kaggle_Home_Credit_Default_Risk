{
 "cells": [
  {
   "cell_type": "code",
   "execution_count": 1,
   "metadata": {},
   "outputs": [],
   "source": [
    "# 15строк https://www.kaggle.com/lemonkoala/15-lines-just-ext-source-x\n",
    "# \n",
    "import pandas as pd \n",
    "from lightgbm import LGBMClassifier\n",
    "\n",
    "data = pd.read_csv(\"../input/application_train.csv\")\n",
    "test = pd.read_csv(\"../input/application_test.csv\")\n",
    "\n",
    "clf = LGBMClassifier()\n",
    "clf.fit(data.filter(regex=r'^EXT_SOURCE_.', axis=1), data['TARGET'])\n",
    "\n",
    "probabilities = clf.predict_proba(test.filter(regex=r'^EXT_SOURCE_.', axis=1))\n",
    "submission = pd.DataFrame({\n",
    "    'SK_ID_CURR': test['SK_ID_CURR'],\n",
    "    'TARGET':     [ row[1] for row in probabilities]\n",
    "})\n",
    "submission.to_csv(\"submission.csv\", index=False)\n"
   ]
  }
 ],
 "metadata": {
  "kernelspec": {
   "display_name": "Python 3",
   "language": "python",
   "name": "python3"
  },
  "language_info": {
   "codemirror_mode": {
    "name": "ipython",
    "version": 3
   },
   "file_extension": ".py",
   "mimetype": "text/x-python",
   "name": "python",
   "nbconvert_exporter": "python",
   "pygments_lexer": "ipython3",
   "version": "3.6.9"
  }
 },
 "nbformat": 4,
 "nbformat_minor": 2
}
