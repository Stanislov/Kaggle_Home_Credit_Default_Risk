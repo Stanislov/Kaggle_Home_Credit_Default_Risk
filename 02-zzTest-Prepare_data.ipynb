{
 "cells": [
  {
   "cell_type": "code",
   "execution_count": 5,
   "metadata": {},
   "outputs": [],
   "source": [
    "# Подключаем библиотеки\n",
    "import pandas as pd \n",
    "import xgboost\n",
    "from lightgbm import LGBMClassifier\n"
   ]
  },
  {
   "cell_type": "code",
   "execution_count": 4,
   "metadata": {},
   "outputs": [
    {
     "data": {
      "text/plain": [
       "'data = pd.read_csv(\"input/application_train.csv\")\\ntest = pd.read_csv(\"input/application_test.csv\")\\n\\nclf = LGBMClassifier()\\nclf.fit(data.filter(regex=r\\'^EXT_SOURCE_.\\', axis=1), data[\\'TARGET\\'])\\n\\nprobabilities = clf.predict_proba(test.filter(regex=r\\'^EXT_SOURCE_.\\', axis=1))\\nsubmission = pd.DataFrame({\\n    \\'SK_ID_CURR\\': test[\\'SK_ID_CURR\\'],\\n    \\'TARGET\\':     [ row[1] for row in probabilities]\\n})\\nsubmission.to_csv(\"submission.csv\", index=False)\\n'"
      ]
     },
     "execution_count": 4,
     "metadata": {},
     "output_type": "execute_result"
    }
   ],
   "source": [
    "'''data = pd.read_csv(\"input/application_train.csv\")\n",
    "test = pd.read_csv(\"input/application_test.csv\")\n",
    "\n",
    "clf = LGBMClassifier()\n",
    "clf.fit(data.filter(regex=r'^EXT_SOURCE_.', axis=1), data['TARGET'])\n",
    "\n",
    "probabilities = clf.predict_proba(test.filter(regex=r'^EXT_SOURCE_.', axis=1))\n",
    "submission = pd.DataFrame({\n",
    "    'SK_ID_CURR': test['SK_ID_CURR'],\n",
    "    'TARGET':     [ row[1] for row in probabilities]\n",
    "})\n",
    "submission.to_csv(\"submission.csv\", index=False)\n",
    "'''"
   ]
  },
  {
   "cell_type": "code",
   "execution_count": null,
   "metadata": {},
   "outputs": [],
   "source": []
  }
 ],
 "metadata": {
  "kernelspec": {
   "display_name": "Python 3",
   "language": "python",
   "name": "python3"
  },
  "language_info": {
   "codemirror_mode": {
    "name": "ipython",
    "version": 3
   },
   "file_extension": ".py",
   "mimetype": "text/x-python",
   "name": "python",
   "nbconvert_exporter": "python",
   "pygments_lexer": "ipython3",
   "version": "3.6.9"
  }
 },
 "nbformat": 4,
 "nbformat_minor": 2
}
